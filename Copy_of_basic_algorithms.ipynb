{
  "nbformat": 4,
  "nbformat_minor": 0,
  "metadata": {
    "colab": {
      "name": "Copy of basic_algorithms.ipynb",
      "provenance": [],
      "collapsed_sections": [],
      "include_colab_link": true
    },
    "kernelspec": {
      "name": "python3",
      "display_name": "Python 3"
    }
  },
  "cells": [
    {
      "cell_type": "markdown",
      "metadata": {
        "id": "view-in-github",
        "colab_type": "text"
      },
      "source": [
        "<a href=\"https://colab.research.google.com/github/eliasboughosn/test/blob/master/Copy_of_basic_algorithms.ipynb\" target=\"_parent\"><img src=\"https://colab.research.google.com/assets/colab-badge.svg\" alt=\"Open In Colab\"/></a>"
      ]
    },
    {
      "cell_type": "markdown",
      "metadata": {
        "id": "wt4kJSTkj1as",
        "colab_type": "text"
      },
      "source": [
        "**This notebook is largely inspired by [the notebook 02.01-Understanding-Data-Types of  Python](https://jakevdp.github.io/PythonDataScienceHandbook/02.01-understanding-data-types.html) Data Science Handbook by Jake VanderPlas**"
      ]
    },
    {
      "cell_type": "markdown",
      "metadata": {
        "id": "efJDDoVNeOMw",
        "colab_type": "text"
      },
      "source": [
        "## Understanding Data Types in Python\n",
        "\n"
      ]
    },
    {
      "cell_type": "code",
      "metadata": {
        "id": "Z87kftQieMjo",
        "colab_type": "code",
        "colab": {
          "base_uri": "https://localhost:8080/",
          "height": 69
        },
        "outputId": "7bdf5fa6-cded-4ae9-f0c6-78af8df19fd0"
      },
      "source": [
        "x = 4\n",
        "print(type(x))\n",
        "x = \"four\"\n",
        "print(type(x))\n",
        "x = True\n",
        "print(type(x))"
      ],
      "execution_count": null,
      "outputs": [
        {
          "output_type": "stream",
          "text": [
            "<class 'int'>\n",
            "<class 'str'>\n",
            "<class 'bool'>\n"
          ],
          "name": "stdout"
        }
      ]
    },
    {
      "cell_type": "markdown",
      "metadata": {
        "id": "3ngak7mMelLz",
        "colab_type": "text"
      },
      "source": [
        "The standard mutable multi-element container in Python is the list.\n"
      ]
    },
    {
      "cell_type": "code",
      "metadata": {
        "id": "oHcrnjxOeom-",
        "colab_type": "code",
        "colab": {
          "base_uri": "https://localhost:8080/",
          "height": 34
        },
        "outputId": "7a4268a0-1e46-4816-a14e-5f143ac86264"
      },
      "source": [
        "L = [True, \"2\", 3.0, 4]\n",
        "[type(item) for item in L]"
      ],
      "execution_count": null,
      "outputs": [
        {
          "output_type": "execute_result",
          "data": {
            "text/plain": [
              "[bool, str, float, int]"
            ]
          },
          "metadata": {
            "tags": []
          },
          "execution_count": 1
        }
      ]
    },
    {
      "cell_type": "markdown",
      "metadata": {
        "id": "yvF9VTz1gT8o",
        "colab_type": "text"
      },
      "source": [
        "Python offers several different options for storing data in efficient, fixed-type data buffers. The built-in array module (available since Python 3.3) can be used to create dense arrays of a uniform type:"
      ]
    },
    {
      "cell_type": "code",
      "metadata": {
        "id": "DM1nfZWkgVNN",
        "colab_type": "code",
        "colab": {
          "base_uri": "https://localhost:8080/",
          "height": 34
        },
        "outputId": "d65fc391-d787-4eb8-87ce-385eb06aea49"
      },
      "source": [
        "import array\n",
        "L = list(range(10))\n",
        "A = array.array('i', L)\n",
        "A"
      ],
      "execution_count": null,
      "outputs": [
        {
          "output_type": "execute_result",
          "data": {
            "text/plain": [
              "array('i', [0, 1, 2, 3, 4, 5, 6, 7, 8, 9])"
            ]
          },
          "metadata": {
            "tags": []
          },
          "execution_count": 4
        }
      ]
    },
    {
      "cell_type": "markdown",
      "metadata": {
        "id": "fUGhlGcygYl1",
        "colab_type": "text"
      },
      "source": [
        "Here 'i' is a type code indicating the contents are integers.\n",
        "\n",
        "Much more useful, however, is the ndarray object of the NumPy package. While Python's array object provides efficient storage of array-based data, NumPy adds to this efficient operations on that data. We will explore these operations in later sections; here we'll demonstrate several ways of creating a NumPy array.\n",
        "\n",
        "We'll start with the standard NumPy import, under the alias np:\n"
      ]
    },
    {
      "cell_type": "code",
      "metadata": {
        "id": "ViendIb3ghUT",
        "colab_type": "code",
        "colab": {
          "base_uri": "https://localhost:8080/",
          "height": 34
        },
        "outputId": "d24adfe0-360f-4ce3-d16b-8be57a041904"
      },
      "source": [
        "import numpy as np\n",
        "print(np.__version__)"
      ],
      "execution_count": null,
      "outputs": [
        {
          "output_type": "stream",
          "text": [
            "1.18.5\n"
          ],
          "name": "stdout"
        }
      ]
    },
    {
      "cell_type": "markdown",
      "metadata": {
        "id": "9lrELxbjgq3l",
        "colab_type": "text"
      },
      "source": [
        "Unlike Python lists, NumPy is constrained to arrays that all contain the same type. If types do not match, NumPy will upcast if possible (here, integers are up-cast to floating point):"
      ]
    },
    {
      "cell_type": "code",
      "metadata": {
        "id": "9-S8Wkk5gpUu",
        "colab_type": "code",
        "colab": {
          "base_uri": "https://localhost:8080/",
          "height": 34
        },
        "outputId": "53a85679-a13b-4510-9dcf-597f41274c2d"
      },
      "source": [
        "np.array([3.14, 4, 2, 3])"
      ],
      "execution_count": null,
      "outputs": [
        {
          "output_type": "execute_result",
          "data": {
            "text/plain": [
              "array([3.14, 4.  , 2.  , 3.  ])"
            ]
          },
          "metadata": {
            "tags": []
          },
          "execution_count": 6
        }
      ]
    },
    {
      "cell_type": "markdown",
      "metadata": {
        "id": "pyOONKXMgz2Q",
        "colab_type": "text"
      },
      "source": [
        "If we want to explicitly set the data type of the resulting array, we can use the ``dtype`` keyword:"
      ]
    },
    {
      "cell_type": "code",
      "metadata": {
        "id": "f45iHzrIg15z",
        "colab_type": "code",
        "colab": {
          "base_uri": "https://localhost:8080/",
          "height": 34
        },
        "outputId": "79f9ecd7-66c2-407a-fdde-7bf75cfe1d55"
      },
      "source": [
        "np.array([1, 2, 3, 4], dtype='float32')"
      ],
      "execution_count": null,
      "outputs": [
        {
          "output_type": "execute_result",
          "data": {
            "text/plain": [
              "array([1., 2., 3., 4.], dtype=float32)"
            ]
          },
          "metadata": {
            "tags": []
          },
          "execution_count": 7
        }
      ]
    },
    {
      "cell_type": "markdown",
      "metadata": {
        "id": "nZdSYjgCjxXT",
        "colab_type": "text"
      },
      "source": [
        "| Data type\t    | Description |\n",
        "|---------------|-------------|\n",
        "| ``bool_``     | Boolean (True or False) stored as a byte |\n",
        "| ``int_``      | Default integer type (same as C ``long``; normally either ``int64`` or ``int32``)| \n",
        "| ``intc``      | Identical to C ``int`` (normally ``int32`` or ``int64``)| \n",
        "| ``intp``      | Integer used for indexing (same as C ``ssize_t``; normally either ``int32`` or ``int64``)| \n",
        "| ``int8``      | Byte (-128 to 127)| \n",
        "| ``int16``     | Integer (-32768 to 32767)|\n",
        "| ``int32``     | Integer (-2147483648 to 2147483647)|\n",
        "| ``int64``     | Integer (-9223372036854775808 to 9223372036854775807)| \n",
        "| ``uint8``     | Unsigned integer (0 to 255)| \n",
        "| ``uint16``    | Unsigned integer (0 to 65535)| \n",
        "| ``uint32``    | Unsigned integer (0 to 4294967295)| \n",
        "| ``uint64``    | Unsigned integer (0 to 18446744073709551615)| \n",
        "| ``float_``    | Shorthand for ``float64``.| \n",
        "| ``float16``   | Half precision float: sign bit, 5 bits exponent, 10 bits mantissa| \n",
        "| ``float32``   | Single precision float: sign bit, 8 bits exponent, 23 bits mantissa| \n",
        "| ``float64``   | Double precision float: sign bit, 11 bits exponent, 52 bits mantissa| \n",
        "| ``complex_``  | Shorthand for ``complex128``.| \n",
        "| ``complex64`` | Complex number, represented by two 32-bit floats| \n",
        "| ``complex128``| Complex number, represented by two 64-bit floats| "
      ]
    },
    {
      "cell_type": "markdown",
      "metadata": {
        "id": "kvWVbi4yi48M",
        "colab_type": "text"
      },
      "source": [
        "## 1-Dimentional numpy arrays"
      ]
    },
    {
      "cell_type": "markdown",
      "metadata": {
        "id": "YUbzjvVSdxn8",
        "colab_type": "text"
      },
      "source": [
        "Create a 1D array of numbers from 0 to 9"
      ]
    },
    {
      "cell_type": "code",
      "metadata": {
        "id": "0SYI9cd4dsfF",
        "colab_type": "code",
        "colab": {
          "base_uri": "https://localhost:8080/",
          "height": 34
        },
        "outputId": "263d5d85-5f18-43ba-ce87-f941a8b3906c"
      },
      "source": [
        "arr = np.arange(10)\n",
        "arr"
      ],
      "execution_count": null,
      "outputs": [
        {
          "output_type": "execute_result",
          "data": {
            "text/plain": [
              "array([0, 1, 2, 3, 4, 5, 6, 7, 8, 9])"
            ]
          },
          "metadata": {
            "tags": []
          },
          "execution_count": 8
        }
      ]
    },
    {
      "cell_type": "markdown",
      "metadata": {
        "id": "8OV6Tkfqd9S9",
        "colab_type": "text"
      },
      "source": [
        "Create a 3×3 numpy array of all True’s"
      ]
    },
    {
      "cell_type": "code",
      "metadata": {
        "id": "RKNquLs8d4qW",
        "colab_type": "code",
        "colab": {}
      },
      "source": [
        "#Solution 1 \n",
        "arr = np.full((3, 3), True, dtype=bool) \n",
        "#Solution 2\n",
        "arr = np.ones((3,3), dtype=bool)\n"
      ],
      "execution_count": null,
      "outputs": []
    },
    {
      "cell_type": "markdown",
      "metadata": {
        "id": "Puht5pjtg-VH",
        "colab_type": "text"
      },
      "source": [
        "How to extract items that satisfy a given condition from 1D array?"
      ]
    },
    {
      "cell_type": "code",
      "metadata": {
        "id": "Zn0e44-meHcA",
        "colab_type": "code",
        "colab": {}
      },
      "source": [
        "arr = np.arange(10)"
      ],
      "execution_count": null,
      "outputs": []
    },
    {
      "cell_type": "markdown",
      "metadata": {
        "id": "iAhY0vGnhKY3",
        "colab_type": "text"
      },
      "source": [
        "Extract all odd numbers from arr"
      ]
    },
    {
      "cell_type": "code",
      "metadata": {
        "id": "mr5uW0sEhJ2k",
        "colab_type": "code",
        "colab": {
          "base_uri": "https://localhost:8080/",
          "height": 34
        },
        "outputId": "3deb8c38-4998-456f-b328-509e2835946c"
      },
      "source": [
        "arr[arr % 2 == 1]"
      ],
      "execution_count": null,
      "outputs": [
        {
          "output_type": "execute_result",
          "data": {
            "text/plain": [
              "array([1, 3, 5, 7, 9])"
            ]
          },
          "metadata": {
            "tags": []
          },
          "execution_count": 11
        }
      ]
    },
    {
      "cell_type": "markdown",
      "metadata": {
        "id": "QxxACP6ghYoq",
        "colab_type": "text"
      },
      "source": [
        "How to replace items that satisfy a condition with another value in numpy array?"
      ]
    },
    {
      "cell_type": "code",
      "metadata": {
        "id": "SBn0fhe5hK3i",
        "colab_type": "code",
        "colab": {
          "base_uri": "https://localhost:8080/",
          "height": 34
        },
        "outputId": "6f961d13-6eb4-4bf1-af25-9eb8efc5eca8"
      },
      "source": [
        "arr[arr % 2 == 1] = -1\n",
        "arr"
      ],
      "execution_count": null,
      "outputs": [
        {
          "output_type": "execute_result",
          "data": {
            "text/plain": [
              "array([ 0, -1,  2, -1,  4, -1,  6, -1,  8, -1])"
            ]
          },
          "metadata": {
            "tags": []
          },
          "execution_count": 12
        }
      ]
    },
    {
      "cell_type": "markdown",
      "metadata": {
        "id": "_s-XOlk1iFCV",
        "colab_type": "text"
      },
      "source": [
        "From array a remove all items present in array b"
      ]
    },
    {
      "cell_type": "code",
      "metadata": {
        "id": "fPEsEiPQiQX-",
        "colab_type": "code",
        "colab": {
          "base_uri": "https://localhost:8080/",
          "height": 34
        },
        "outputId": "207afb3f-0b68-4bbe-de46-44cde7064ef8"
      },
      "source": [
        "a = np.array([1,2,3,4,5])\n",
        "b = np.array([5,6,7,8,9])\n",
        "np.setdiff1d(a,b)\n"
      ],
      "execution_count": null,
      "outputs": [
        {
          "output_type": "execute_result",
          "data": {
            "text/plain": [
              "array([1, 2, 3, 4])"
            ]
          },
          "metadata": {
            "tags": []
          },
          "execution_count": 13
        }
      ]
    },
    {
      "cell_type": "markdown",
      "metadata": {
        "id": "qWBRKO19h9FL",
        "colab_type": "text"
      },
      "source": [
        "**Question** Try to replace even numbers by its value times 3"
      ]
    },
    {
      "cell_type": "code",
      "metadata": {
        "id": "p-zCQOiuhkdw",
        "colab_type": "code",
        "colab": {
          "base_uri": "https://localhost:8080/",
          "height": 68
        },
        "outputId": "b9f21625-cc86-48b9-852b-afbb298bd9d2"
      },
      "source": [
        "import numpy as np\n",
        "a=np.array([1,2,3,4,5,6])\n",
        "print(a[a%2==0]*3)\n",
        "a[a%2==0] = a[a%2==0]*3\n",
        "print(a)\n",
        "answer = (a[a%2==0])*3\n",
        "print (answer)"
      ],
      "execution_count": null,
      "outputs": [
        {
          "output_type": "stream",
          "text": [
            "[ 6 12 18]\n",
            "[ 1  6  3 12  5 18]\n",
            "[18 36 54]\n"
          ],
          "name": "stdout"
        }
      ]
    },
    {
      "cell_type": "markdown",
      "metadata": {
        "id": "vToT4eUPjAI8",
        "colab_type": "text"
      },
      "source": [
        "##2-Dimentional numpy arrays"
      ]
    },
    {
      "cell_type": "code",
      "metadata": {
        "id": "x7_3xc71h7vo",
        "colab_type": "code",
        "colab": {
          "base_uri": "https://localhost:8080/",
          "height": 119
        },
        "outputId": "3efc41dc-32d1-4969-cde3-ebcd24082bc2"
      },
      "source": [
        "# Create a 3x5 floating-point array filled with ones\n",
        "one=np.ones((3, 5), dtype=float)\n",
        "print(one)\n",
        "# Create a 3x3 array of uniformly distributed\n",
        "# random values between 0 and 1\n",
        "arr = np.random.random((3, 3))\n",
        "arr"
      ],
      "execution_count": null,
      "outputs": [
        {
          "output_type": "stream",
          "text": [
            "[[1. 1. 1. 1. 1.]\n",
            " [1. 1. 1. 1. 1.]\n",
            " [1. 1. 1. 1. 1.]]\n"
          ],
          "name": "stdout"
        },
        {
          "output_type": "execute_result",
          "data": {
            "text/plain": [
              "array([[0.36484579, 0.0114944 , 0.34172116],\n",
              "       [0.73420483, 0.81272287, 0.00082284],\n",
              "       [0.08967554, 0.50491019, 0.40254542]])"
            ]
          },
          "metadata": {
            "tags": []
          },
          "execution_count": 11
        }
      ]
    },
    {
      "cell_type": "code",
      "metadata": {
        "id": "e-jj0DnZich4",
        "colab_type": "code",
        "colab": {
          "base_uri": "https://localhost:8080/",
          "height": 34
        },
        "outputId": "214abe62-5ecd-426a-d3fb-d6b76780b4d5"
      },
      "source": [
        "# If you want to access the element in line i = 2 and column j = 3\n",
        "i = 2 \n",
        "j = 3 \n",
        "arr[i-1,j-1] #The -1 is because you start counting from 0 \n"
      ],
      "execution_count": null,
      "outputs": [
        {
          "output_type": "execute_result",
          "data": {
            "text/plain": [
              "0.8351338732794776"
            ]
          },
          "metadata": {
            "tags": []
          },
          "execution_count": 15
        }
      ]
    },
    {
      "cell_type": "markdown",
      "metadata": {
        "id": "hXDrKwACl8GL",
        "colab_type": "text"
      },
      "source": [
        "## Understanding how documentation works "
      ]
    },
    {
      "cell_type": "markdown",
      "metadata": {
        "id": "5zsOx3gsk9xf",
        "colab_type": "text"
      },
      "source": [
        "**Question:** Please go to this [documentation](https://numpy.org/doc/stable/reference/routines.math.html) and look for a way to sum up all columns of a 2-D array. Write your answer below for the following array : \n"
      ]
    },
    {
      "cell_type": "code",
      "metadata": {
        "id": "RquZx7FBkokg",
        "colab_type": "code",
        "colab": {
          "base_uri": "https://localhost:8080/",
          "height": 102
        },
        "outputId": "809fe6af-b8eb-425b-9896-a0acbd948f01"
      },
      "source": [
        "\n",
        "arr = np.random.randint(0, 10, (3, 3))\n",
        "print(arr)\n",
        "\n",
        "a = arr.sum(axis=0)\n",
        "print(\"\\n\", a)"
      ],
      "execution_count": null,
      "outputs": [
        {
          "output_type": "stream",
          "text": [
            "[[0 3 5]\n",
            " [6 2 6]\n",
            " [3 8 5]]\n",
            "\n",
            " [ 9 13 16]\n"
          ],
          "name": "stdout"
        }
      ]
    },
    {
      "cell_type": "markdown",
      "metadata": {
        "id": "97BbWTqcNMf1",
        "colab_type": "text"
      },
      "source": [
        "Take two lists, say for example these two:\n",
        "\n",
        "\ta = [1, 1, 2, 3, 5, 8, 13, 21, 34, 55, 89]\n",
        "\tb = [1, 2, 3, 4, 5, 6, 7, 8, 9, 10, 11, 12, 13]\n",
        "\n",
        "and write a program that returns a list that contains only the elements that are common between the lists (without duplicates). Make sure your program works on two lists of different sizes.\n"
      ]
    },
    {
      "cell_type": "code",
      "metadata": {
        "id": "BUMbdrHVNKul",
        "colab_type": "code",
        "colab": {}
      },
      "source": [
        "import random\n",
        "a = random.sample(range(1,30), 12)\n",
        "b = random.sample(range(1,30), 16)\n",
        "result_overlaps = [i for i in set(a) if i in b]\n",
        "result = [i for i in result_overlaps if result_overlaps.count(i) == 1]"
      ],
      "execution_count": null,
      "outputs": []
    },
    {
      "cell_type": "markdown",
      "metadata": {
        "id": "bb4TDDfUBHHH",
        "colab_type": "text"
      },
      "source": [
        "Create a new column for volume in iris_2d, where volume is (pi x petallength x sepal_length^2)/3 \\\\\n",
        "**Hint:** Use np.hstack to add a new column, look at the documentation for how to use it "
      ]
    },
    {
      "cell_type": "code",
      "metadata": {
        "id": "XGrvTJyDmX2e",
        "colab_type": "code",
        "colab": {}
      },
      "source": [
        "# Input\n",
        "url = 'https://archive.ics.uci.edu/ml/machine-learning-databases/iris/iris.data'\n",
        "iris_2d = np.genfromtxt(url, delimiter=',', dtype='object')\n",
        "names = ('sepallength', 'sepalwidth', 'petallength', 'petalwidth', 'species')"
      ],
      "execution_count": null,
      "outputs": []
    },
    {
      "cell_type": "code",
      "metadata": {
        "id": "9tHD62X9EpPd",
        "colab_type": "code",
        "colab": {}
      },
      "source": [
        "## Write your anser here "
      ],
      "execution_count": null,
      "outputs": []
    },
    {
      "cell_type": "code",
      "metadata": {
        "id": "C1fIMig8BL8a",
        "colab_type": "code",
        "colab": {}
      },
      "source": [
        "# Solution\n",
        "# Compute volume\n",
        "sepallength = iris_2d[:, 0].astype('float')\n",
        "petallength = iris_2d[:, 2].astype('float')\n",
        "volume = (np.pi * petallength * (sepallength**2))/3\n",
        "\n",
        "# Introduce new dimension to match iris_2d's\n",
        "volume = volume[:, np.newaxis]\n",
        "\n",
        "# Add the new column\n",
        "out = np.hstack([iris_2d, volume])"
      ],
      "execution_count": null,
      "outputs": []
    },
    {
      "cell_type": "markdown",
      "metadata": {
        "id": "4qX8GAI2Jq7m",
        "colab_type": "text"
      },
      "source": [
        "## Loops, while and conditions"
      ]
    },
    {
      "cell_type": "markdown",
      "metadata": {
        "id": "59xt08ImQJHb",
        "colab_type": "text"
      },
      "source": [
        "**Easy examples**"
      ]
    },
    {
      "cell_type": "code",
      "metadata": {
        "id": "U-CtJbbsBVEd",
        "colab_type": "code",
        "colab": {
          "base_uri": "https://localhost:8080/",
          "height": 86
        },
        "outputId": "5dd95a60-f33d-4215-e2cc-f11c504fa7bd"
      },
      "source": [
        "organs = ['kidney','liver','heart','appendix']\n",
        "print(organs[0])\n",
        "print(organs[1])\n",
        "print(organs[2])\n",
        "print(organs[3])"
      ],
      "execution_count": null,
      "outputs": [
        {
          "output_type": "stream",
          "text": [
            "kidney\n",
            "liver\n",
            "heart\n",
            "appendix\n"
          ],
          "name": "stdout"
        }
      ]
    },
    {
      "cell_type": "code",
      "metadata": {
        "id": "WUB_wLKAJ7cG",
        "colab_type": "code",
        "colab": {
          "base_uri": "https://localhost:8080/",
          "height": 86
        },
        "outputId": "a4c7660e-4dbd-4d7d-aa25-c10c886a8315"
      },
      "source": [
        "for organ in organs : \n",
        "  print(organ)"
      ],
      "execution_count": null,
      "outputs": [
        {
          "output_type": "stream",
          "text": [
            "kidney\n",
            "liver\n",
            "heart\n",
            "appendix\n"
          ],
          "name": "stdout"
        }
      ]
    },
    {
      "cell_type": "markdown",
      "metadata": {
        "id": "S3xB22BGQTrU",
        "colab_type": "text"
      },
      "source": [
        "Suppose we do not want to print the word **heart**\n",
        "\n",
        "\n",
        "```\n",
        "for organ in organs:\n",
        "  if organ != 'heart':\n",
        "    print(organ)\n",
        "\n",
        "```\n",
        "\n"
      ]
    },
    {
      "cell_type": "markdown",
      "metadata": {
        "id": "ZOYVLXWRQwNg",
        "colab_type": "text"
      },
      "source": [
        "We would like to print all integers less or equal to 10, write a solution using a loop "
      ]
    },
    {
      "cell_type": "code",
      "metadata": {
        "id": "pzz-ikTzQ5dy",
        "colab_type": "code",
        "colab": {}
      },
      "source": [
        "## Your answer here "
      ],
      "execution_count": null,
      "outputs": []
    },
    {
      "cell_type": "markdown",
      "metadata": {
        "id": "W-wX1nF1Q763",
        "colab_type": "text"
      },
      "source": [
        "Now if we want to print all integers less or equal to 50, there is an easier way : "
      ]
    },
    {
      "cell_type": "code",
      "metadata": {
        "id": "hmT8C143KLGq",
        "colab_type": "code",
        "colab": {
          "base_uri": "https://localhost:8080/",
          "height": 903
        },
        "outputId": "2a36a433-37b3-450d-a4da-3b5e2ffa2c51"
      },
      "source": [
        "#intialisation \n",
        "i = 0\n",
        "while i < 51 : \n",
        "  print(i)\n",
        "  i += 1"
      ],
      "execution_count": null,
      "outputs": [
        {
          "output_type": "stream",
          "text": [
            "0\n",
            "1\n",
            "2\n",
            "3\n",
            "4\n",
            "5\n",
            "6\n",
            "7\n",
            "8\n",
            "9\n",
            "10\n",
            "11\n",
            "12\n",
            "13\n",
            "14\n",
            "15\n",
            "16\n",
            "17\n",
            "18\n",
            "19\n",
            "20\n",
            "21\n",
            "22\n",
            "23\n",
            "24\n",
            "25\n",
            "26\n",
            "27\n",
            "28\n",
            "29\n",
            "30\n",
            "31\n",
            "32\n",
            "33\n",
            "34\n",
            "35\n",
            "36\n",
            "37\n",
            "38\n",
            "39\n",
            "40\n",
            "41\n",
            "42\n",
            "43\n",
            "44\n",
            "45\n",
            "46\n",
            "47\n",
            "48\n",
            "49\n",
            "50\n"
          ],
          "name": "stdout"
        }
      ]
    },
    {
      "cell_type": "markdown",
      "metadata": {
        "id": "zai1Oq2hLgat",
        "colab_type": "text"
      },
      "source": [
        "**Exercise**: The Fibonacci Sequence is the series of numbers:\n",
        "\n",
        "0,1,1,2,3,5,8,13,21,34,...\n",
        "\n",
        "The series starts with **0** and **1** as the first two numbers in the series. The next number in the series is found by summing the two numbers before it."
      ]
    },
    {
      "cell_type": "code",
      "metadata": {
        "id": "KjxT69RkQEzs",
        "colab_type": "code",
        "colab": {}
      },
      "source": [
        "## Write your answer here "
      ],
      "execution_count": null,
      "outputs": []
    },
    {
      "cell_type": "code",
      "metadata": {
        "id": "DiUeFIaxKNJt",
        "colab_type": "code",
        "colab": {
          "base_uri": "https://localhost:8080/",
          "height": 208
        },
        "outputId": "5a9209c0-f256-4ec5-ec48-3864bb35ba0e"
      },
      "source": [
        "## Solution\n",
        "\n",
        "number_of_terms = 10\n",
        "counter = 0\n",
        "\n",
        "first = 0\n",
        "second = 1\n",
        "temp = 0\n",
        "\n",
        "while counter <= number_of_terms:\n",
        "  print(first)\n",
        "  temp = first + second\n",
        "  first = second\n",
        "  second = temp\n",
        "  counter = counter + 1\n",
        "\n"
      ],
      "execution_count": null,
      "outputs": [
        {
          "output_type": "stream",
          "text": [
            "0\n",
            "1\n",
            "1\n",
            "2\n",
            "3\n",
            "5\n",
            "8\n",
            "13\n",
            "21\n",
            "34\n",
            "55\n"
          ],
          "name": "stdout"
        }
      ]
    },
    {
      "cell_type": "markdown",
      "metadata": {
        "id": "xIb0W3ptMYIq",
        "colab_type": "text"
      },
      "source": [
        "Make a two-player Rock-Paper-Scissors game. (Hint: Ask for player plays (using input), compare them, print out a message of congratulations to the winner, and ask if the players want to start a new game)\n",
        "\n",
        "Remember the rules:\n",
        "\n",
        "    Rock beats scissors\n",
        "    Scissors beats paper\n",
        "    Paper beats rock\n"
      ]
    },
    {
      "cell_type": "code",
      "metadata": {
        "id": "UexSVggfLMVU",
        "colab_type": "code",
        "colab": {
          "base_uri": "https://localhost:8080/",
          "height": 191
        },
        "outputId": "38782c10-6c2f-4d3e-8d1a-7f0969669581"
      },
      "source": [
        "## Solution\n",
        "print('''Please pick one:\n",
        "            rock\n",
        "            scissors\n",
        "            paper''')\n",
        "\n",
        "while True:\n",
        "    game_dict = {'rock': 1, 'scissors': 2, 'paper': 3}\n",
        "    player_a = str(input(\"Player a: \"))\n",
        "    player_b = str(input(\"Player b: \"))\n",
        "    a = game_dict.get(player_a)\n",
        "    b = game_dict.get(player_b)\n",
        "    dif = a - b\n",
        "\n",
        "    if dif in [-1, 2]:\n",
        "        print('player a wins.')\n",
        "        if str(input('Do you want to play another game, yes or no?\\n')) == 'yes':\n",
        "            continue\n",
        "        else:\n",
        "            print('game over.')\n",
        "            break\n",
        "    elif dif in [-2, 1]:\n",
        "        print('player b wins.')\n",
        "        if str(input('Do you want to play another game, yes or no?\\n')) == 'yes':\n",
        "            continue\n",
        "        else:\n",
        "            print('game over.')\n",
        "            break\n",
        "    else:\n",
        "        print('Draw.Please continue.')\n",
        "        print('')"
      ],
      "execution_count": null,
      "outputs": [
        {
          "output_type": "stream",
          "text": [
            "Please pick one:\n",
            "            rock\n",
            "            scissors\n",
            "            paper\n",
            "Player a: rock\n",
            "Player b: scissors\n",
            "player a wins.\n",
            "Do you want to play another game, yes or no?\n",
            "no\n",
            "game over.\n"
          ],
          "name": "stdout"
        }
      ]
    },
    {
      "cell_type": "markdown",
      "metadata": {
        "id": "tL8tVwfaMVWs",
        "colab_type": "text"
      },
      "source": [
        "**Change the program above to give the winner after three rounds**"
      ]
    },
    {
      "cell_type": "code",
      "metadata": {
        "id": "E27TEARYPx-c",
        "colab_type": "code",
        "colab": {}
      },
      "source": [
        "## Your answer here"
      ],
      "execution_count": null,
      "outputs": []
    },
    {
      "cell_type": "markdown",
      "metadata": {
        "id": "f53qi7rcPiDi",
        "colab_type": "text"
      },
      "source": [
        "Consider some game where each participant draws a series of random integers evenly distributed from 0 and 10, with the aim of getting the sum as close as possible to 21, but not larger than 21. You are out of the game if the sum passes 21. After each draw, you are told the number and your total sum, and is asked whether you want another draw or not. The one coming closest to 21\n",
        "\n",
        "is the winner.\n",
        "\n",
        "Implement this game in a program. \n"
      ]
    },
    {
      "cell_type": "markdown",
      "metadata": {
        "id": "eGwPPS8ZPo8Q",
        "colab_type": "text"
      },
      "source": [
        "**Hint :Use random.randint(0,10) to draw random integers in [0,10]**"
      ]
    },
    {
      "cell_type": "code",
      "metadata": {
        "id": "REQaFkRvPied",
        "colab_type": "code",
        "colab": {
          "base_uri": "https://localhost:8080/",
          "height": 278
        },
        "outputId": "dfcb2639-476f-416a-a576-d3743b3e0968"
      },
      "source": [
        "## Solution\n",
        "from random import randint\n",
        "\n",
        "upper_limit = 21\n",
        "not_finished = True\n",
        "sum = 0\n",
        "while not_finished:\n",
        "    next_number = randint(0, 10)\n",
        "    print(\"You got: \", next_number)\n",
        "    sum += next_number\n",
        "    if sum > upper_limit:\n",
        "        print(\"Game over, you passed 21 (with your %d points)!\"\\\n",
        "                % sum)\n",
        "        not_finished = False\n",
        "    else:\n",
        "        print(\"Your score is now: %d points!\" % (sum))\n",
        "        answer = input('Another draw (y/n)? ')\n",
        "        if answer != 'y':\n",
        "            not_finished = False\n",
        "print(\"Finished!\")\n"
      ],
      "execution_count": null,
      "outputs": [
        {
          "output_type": "stream",
          "text": [
            "You got:  2\n",
            "Your score is now: 2 points!\n",
            "Another draw (y/n)? y\n",
            "You got:  1\n",
            "Your score is now: 3 points!\n",
            "Another draw (y/n)? y\n",
            "You got:  4\n",
            "Your score is now: 7 points!\n",
            "Another draw (y/n)? y\n",
            "You got:  10\n",
            "Your score is now: 17 points!\n",
            "Another draw (y/n)? y\n",
            "You got:  10\n",
            "Game over, you passed 21 (with your 27 points)!\n",
            "Finished!\n"
          ],
          "name": "stdout"
        }
      ]
    },
    {
      "cell_type": "markdown",
      "metadata": {
        "id": "vKJnhOPvWtrz",
        "colab_type": "text"
      },
      "source": [
        "**Exercise** : Change the program to add the dealer's hand. \n",
        "Start by playing once  the Dealer’s hand and show the result to the player before he starts playing.  When the player stands (stops drawing cards before loosing), play the Dealer’s hand again and add it's score to the dealer's score. The dealer will always play until the Dealer’s value meets or exceeds 17. Then compare both the player's score and the dealer's score to determine who wins. \n",
        "\n"
      ]
    },
    {
      "cell_type": "code",
      "metadata": {
        "id": "tPCYoWAVW5Dj",
        "colab_type": "code",
        "colab": {}
      },
      "source": [
        "## Your answer here"
      ],
      "execution_count": null,
      "outputs": []
    },
    {
      "cell_type": "markdown",
      "metadata": {
        "id": "aRYvoOY3S-jb",
        "colab_type": "text"
      },
      "source": [
        "##[Matplotlib Tutorial – A Complete Guide to Python Plot w/ Examples by Selva Prabhakaran](https://www.machinelearningplus.com/plots/matplotlib-tutorial-complete-guide-python-plot-examples/)"
      ]
    },
    {
      "cell_type": "code",
      "metadata": {
        "id": "OZK9-nz7S-Ho",
        "colab_type": "code",
        "colab": {}
      },
      "source": [
        "#matplotlib.pyplot is usually imported as plt. It is the core object that contains the methods\n",
        "#to create all sorts of charts and features in a plot.\n",
        "import matplotlib.pyplot as plt\n",
        "%matplotlib inline"
      ],
      "execution_count": null,
      "outputs": []
    },
    {
      "cell_type": "code",
      "metadata": {
        "id": "pkpqWthXTLjY",
        "colab_type": "code",
        "colab": {
          "base_uri": "https://localhost:8080/",
          "height": 282
        },
        "outputId": "a5ca1734-2392-4da6-afcc-1b2177665270"
      },
      "source": [
        "plt.plot([1,2,3,4,10])"
      ],
      "execution_count": null,
      "outputs": [
        {
          "output_type": "execute_result",
          "data": {
            "text/plain": [
              "[<matplotlib.lines.Line2D at 0x7f93f8175c88>]"
            ]
          },
          "metadata": {
            "tags": []
          },
          "execution_count": 12
        },
        {
          "output_type": "display_data",
          "data": {
            "image/png": "[encoded data removed]",
            "text/plain": [
              "<Figure size 432x288 with 1 Axes>"
            ]
          },
          "metadata": {
            "tags": [],
            "needs_background": "light"
          }
        }
      ]
    },
    {
      "cell_type": "code",
      "metadata": {
        "id": "AIIh00HETQpx",
        "colab_type": "code",
        "colab": {
          "base_uri": "https://localhost:8080/",
          "height": 265
        },
        "outputId": "955784bb-a0b0-4a93-f469-6184898cb956"
      },
      "source": [
        "# 'go' stands for green dots\n",
        "plt.plot([1,2,3,4,5], [1,2,3,4,10], 'go')\n",
        "plt.show()"
      ],
      "execution_count": null,
      "outputs": [
        {
          "output_type": "display_data",
          "data": {
            "image/png": "[encoded data removed]",
            "text/plain": [
              "<Figure size 432x288 with 1 Axes>"
            ]
          },
          "metadata": {
            "tags": [],
            "needs_background": "light"
          }
        }
      ]
    },
    {
      "cell_type": "markdown",
      "metadata": {
        "id": "vitz6GVkTXlO",
        "colab_type": "text"
      },
      "source": [
        "How to plot another set of 5 points of different color in the same figure?\n",
        "\n",
        "Simply call plt.plot() again, it will add those point to the same picture."
      ]
    },
    {
      "cell_type": "code",
      "metadata": {
        "id": "v2JOrebkTZzv",
        "colab_type": "code",
        "colab": {
          "base_uri": "https://localhost:8080/",
          "height": 265
        },
        "outputId": "169a1dff-8c04-4365-9afe-f14e737ef06e"
      },
      "source": [
        "# Draw two sets of points\n",
        "plt.plot([1,2,3,4,5], [1,2,3,4,10], 'go')  # green dots\n",
        "plt.plot([1,2,3,4,5], [2,3,4,5,11], 'b*')  # blue stars\n",
        "plt.show()"
      ],
      "execution_count": null,
      "outputs": [
        {
          "output_type": "display_data",
          "data": {
            "image/png": "[encoded data removed]",
            "text/plain": [
              "<Figure size 432x288 with 1 Axes>"
            ]
          },
          "metadata": {
            "tags": [],
            "needs_background": "light"
          }
        }
      ]
    },
    {
      "cell_type": "markdown",
      "metadata": {
        "id": "lol4arfuTg2D",
        "colab_type": "text"
      },
      "source": [
        "Let’s add the basic plot features: Title, Legend, X and Y axis labels. "
      ]
    },
    {
      "cell_type": "code",
      "metadata": {
        "id": "EFEMBbuzTe0b",
        "colab_type": "code",
        "colab": {
          "base_uri": "https://localhost:8080/",
          "height": 295
        },
        "outputId": "382f7775-5236-44e0-e8ac-38ebcb4f18c0"
      },
      "source": [
        "plt.plot([1,2,3,4,5], [1,2,3,4,10], 'go', label='GreenDots')\n",
        "plt.plot([1,2,3,4,5], [2,3,4,5,11], 'b*', label='Bluestars')\n",
        "plt.title('A Simple Scatterplot')\n",
        "plt.xlabel('X')\n",
        "plt.ylabel('Y')\n",
        "plt.legend(loc='best')  # legend text comes from the plot's label parameter.\n",
        "plt.show()"
      ],
      "execution_count": null,
      "outputs": [
        {
          "output_type": "display_data",
          "data": {
            "image/png": "[encoded data removed]",
            "text/plain": [
              "<Figure size 432x288 with 1 Axes>"
            ]
          },
          "metadata": {
            "tags": [],
            "needs_background": "light"
          }
        }
      ]
    },
    {
      "cell_type": "markdown",
      "metadata": {
        "id": "9onuPQ8xTpXE",
        "colab_type": "text"
      },
      "source": [
        "To increase the size of the plot : \n",
        "\n"
      ]
    },
    {
      "cell_type": "code",
      "metadata": {
        "id": "NipwRJWLTt9a",
        "colab_type": "code",
        "colab": {
          "base_uri": "https://localhost:8080/",
          "height": 458
        },
        "outputId": "5d6ef66c-9f2b-4e87-acd2-3b2acde066e5"
      },
      "source": [
        "plt.figure(figsize=(10,7)) # 10 is width, 7 is height\n",
        "plt.plot([1,2,3,4,5], [1,2,3,4,10], 'go', label='GreenDots')  # green dots\n",
        "plt.plot([1,2,3,4,5], [2,3,4,5,11], 'b*', label='Bluestars')  # blue stars\n",
        "plt.title('A Simple Scatterplot')  \n",
        "plt.xlabel('X')\n",
        "plt.ylabel('Y')\n",
        "plt.xlim(0, 6)\n",
        "plt.ylim(0, 12)\n",
        "plt.legend(loc='best')\n",
        "plt.show()"
      ],
      "execution_count": null,
      "outputs": [
        {
          "output_type": "display_data",
          "data": {
            "image/png": "[encoded data removed]",
            "text/plain": [
              "<Figure size 720x504 with 1 Axes>"
            ]
          },
          "metadata": {
            "tags": [],
            "needs_background": "light"
          }
        }
      ]
    },
    {
      "cell_type": "markdown",
      "metadata": {
        "id": "I5YS2vOuUHE7",
        "colab_type": "text"
      },
      "source": [
        "Suppose, I want to draw our two sets of points (green rounds and blue stars) in two separate plots side-by-side instead of the same plot. How would you do that?\n",
        "\n",
        "You can do that by creating two separate subplots, aka, axes using plt.subplots(1, 2). This creates and returns two objects:\n",
        "* the figure\n",
        "* the axes (subplots) inside the figure"
      ]
    },
    {
      "cell_type": "code",
      "metadata": {
        "id": "3CgduTcZUItr",
        "colab_type": "code",
        "colab": {
          "base_uri": "https://localhost:8080/",
          "height": 485
        },
        "outputId": "8c417b4f-2df5-44b5-a648-016920f71ee2"
      },
      "source": [
        "# Create Figure and Subplots\n",
        "fig, (ax1, ax2) = plt.subplots(1,2, figsize=(10,4), sharey=True, dpi=120)\n",
        "\n",
        "# Plot\n",
        "ax1.plot([1,2,3,4,5], [1,2,3,4,10], 'go')  # greendots\n",
        "ax2.plot([1,2,3,4,5], [2,3,4,5,11], 'b*')  # bluestart\n",
        "\n",
        "# Title, X and Y labels, X and Y Lim\n",
        "ax1.set_title('Scatterplot Greendots'); ax2.set_title('Scatterplot Bluestars')\n",
        "ax1.set_xlabel('X');  ax2.set_xlabel('X')  # x label\n",
        "ax1.set_ylabel('Y');  ax2.set_ylabel('Y')  # y label\n",
        "ax1.set_xlim(0, 6) ;  ax2.set_xlim(0, 6)   # x axis limits\n",
        "ax1.set_ylim(0, 12);  ax2.set_ylim(0, 12)  # y axis limits\n",
        "\n",
        "# ax2.yaxis.set_ticks_position('none') \n",
        "plt.tight_layout()\n",
        "plt.show()"
      ],
      "execution_count": null,
      "outputs": [
        {
          "output_type": "display_data",
          "data": {
            "image/png": "[encoded data removed]",
            "text/plain": [
              "<Figure size 1200x480 with 2 Axes>"
            ]
          },
          "metadata": {
            "tags": [],
            "needs_background": "light"
          }
        }
      ]
    },
    {
      "cell_type": "code",
      "metadata": {
        "id": "VI9-FRoGMiiC",
        "colab_type": "code",
        "colab": {}
      },
      "source": [
        ""
      ],
      "execution_count": null,
      "outputs": []
    }
  ]
}